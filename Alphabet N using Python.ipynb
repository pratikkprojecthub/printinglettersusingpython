{
 "cells": [
  {
   "cell_type": "markdown",
   "id": "063fadc5",
   "metadata": {},
   "source": [
    "# Printing the English Alphabet N"
   ]
  },
  {
   "cell_type": "code",
   "execution_count": 1,
   "id": "24b5f327",
   "metadata": {},
   "outputs": [
    {
     "name": "stdout",
     "output_type": "stream",
     "text": [
      "*    *\n",
      "**   *\n",
      "* *  *\n",
      "*  * *\n",
      "*   **\n",
      "*    *\n"
     ]
    }
   ],
   "source": [
    "for row in range(6):    \n",
    "    for col in range(6):     \n",
    "        if(col==0 or col==5 or(row==col and(col>0 and col<5))or(row==3 and col==3)):   \n",
    "            print(\"*\",end=\"\")\n",
    "        else:\n",
    "            print(end=\" \")\n",
    "    print()  "
   ]
  },
  {
   "cell_type": "code",
   "execution_count": 3,
   "id": "45128597",
   "metadata": {},
   "outputs": [
    {
     "name": "stdout",
     "output_type": "stream",
     "text": [
      " @   @ \n",
      " @   @ \n",
      " @@  @ \n",
      " @ @ @ \n",
      " @  @@ \n",
      " @   @ \n",
      " @   @ \n",
      "\n"
     ]
    }
   ],
   "source": [
    "a=\"\";    \n",
    "for R in range(0,7):    \n",
    "    for C in range(0,7):     \n",
    "        if (C == 1 or C == 5 or (R == C and C != 0 and C != 6)):  \n",
    "            a=a+\"@\"    \n",
    "        else:      \n",
    "            a=a+\" \"    \n",
    "    a=a+\"\\n\"    \n",
    "print(a);    "
   ]
  },
  {
   "cell_type": "code",
   "execution_count": 4,
   "id": "52926fa9",
   "metadata": {},
   "outputs": [
    {
     "name": "stdout",
     "output_type": "stream",
     "text": [
      "#    #\n",
      "##   #\n",
      "# #  #\n",
      "#  # #\n",
      "#   ##\n",
      "#    #\n",
      "\n"
     ]
    }
   ],
   "source": [
    "a=\"\";\n",
    "for row in range(6):    \n",
    "    for col in range(6):     \n",
    "        if(col==0 or col==5 or(row==col and(col>0 and col<5))or(row==3 and col==3)):\n",
    "            a=a+\"#\"    \n",
    "        else:      \n",
    "            a=a+\" \"    \n",
    "    a=a+\"\\n\"    \n",
    "print(a);    "
   ]
  },
  {
   "cell_type": "code",
   "execution_count": 9,
   "id": "1a684ba3",
   "metadata": {},
   "outputs": [
    {
     "name": "stdout",
     "output_type": "stream",
     "text": [
      "1               1\n",
      "2  2            2\n",
      "3    3          3\n",
      "4      4        4\n",
      "5        5      5\n",
      "6          6    6\n",
      "7            7  7\n",
      "8               8\n"
     ]
    }
   ],
   "source": [
    "def N_Pattern(N):\n",
    "     \n",
    "   \n",
    "    R = 1\n",
    "    L = 1\n",
    "    D = 2\n",
    " \n",
    "    #  for the rows\n",
    "    for i in range(N):\n",
    "         \n",
    "        #  left Values\n",
    "        print(L, end = \"\")\n",
    "        L = L + 1\n",
    " \n",
    "        # Spaces for the diagonals\n",
    "        for index in range(0, 2 * (i), 1):\n",
    "            print(\" \", end = \"\")\n",
    " \n",
    "        # Condition for the diagonals\n",
    "        if (i != 0 and i != N - 1):\n",
    "            print(D, end = \"\")\n",
    "            D += 1\n",
    "        else:\n",
    "            print(\" \", end = \"\")\n",
    " \n",
    "        # Spaces for the Right Values\n",
    "        for index in range(0, 2 * (N - i - 1), 1):\n",
    "            print(\" \", end = \"\")\n",
    " \n",
    "        # For the right values\n",
    "        print(R, end = \"\")\n",
    "        R =R + 1\n",
    "         \n",
    "        print(\"\\n\", end = \"\")\n",
    "     \n",
    "\n",
    "if __name__ == '__main__':\n",
    "     \n",
    "    Size = 8\n",
    "    N_Pattern(Size)\n",
    " \n"
   ]
  },
  {
   "cell_type": "code",
   "execution_count": 6,
   "id": "9390cb26",
   "metadata": {},
   "outputs": [
    {
     "name": "stdout",
     "output_type": "stream",
     "text": [
      " $   $ \n",
      " $   $ \n",
      " $$  $ \n",
      " $ $ $ \n",
      " $  $$ \n",
      " $   $ \n",
      " $   $ \n",
      "\n"
     ]
    }
   ],
   "source": [
    "str=\"\";    \n",
    "for Row in range(0,7):    \n",
    "    for Col in range(0,7):     \n",
    "        if (Col == 1 or Col == 5 or (Row == Col and Col != 0 and Col != 6)):  \n",
    "            str=str+\"$\"    \n",
    "        else:      \n",
    "            str=str+\" \"    \n",
    "    str=str+\"\\n\"    \n",
    "print(str);"
   ]
  },
  {
   "cell_type": "code",
   "execution_count": 7,
   "id": "00b440c4",
   "metadata": {},
   "outputs": [
    {
     "name": "stdout",
     "output_type": "stream",
     "text": [
      "&    &\n",
      "&&   &\n",
      "& &  &\n",
      "&  & &\n",
      "&   &&\n",
      "&    &\n",
      "\n"
     ]
    }
   ],
   "source": [
    "a=\"\";\n",
    "for row in range(6):    \n",
    "    for col in range(6):     \n",
    "        if(col==0 or col==5 or(row==col and(col>0 and col<5))or(row==3 and col==3)):\n",
    "            a=a+\"&\"    \n",
    "        else:      \n",
    "            a=a+\" \"    \n",
    "    a=a+\"\\n\"    \n",
    "print(a);  "
   ]
  },
  {
   "cell_type": "code",
   "execution_count": null,
   "id": "63ea3eab",
   "metadata": {},
   "outputs": [],
   "source": []
  }
 ],
 "metadata": {
  "kernelspec": {
   "display_name": "Python 3",
   "language": "python",
   "name": "python3"
  },
  "language_info": {
   "codemirror_mode": {
    "name": "ipython",
    "version": 3
   },
   "file_extension": ".py",
   "mimetype": "text/x-python",
   "name": "python",
   "nbconvert_exporter": "python",
   "pygments_lexer": "ipython3",
   "version": "3.8.8"
  }
 },
 "nbformat": 4,
 "nbformat_minor": 5
}
