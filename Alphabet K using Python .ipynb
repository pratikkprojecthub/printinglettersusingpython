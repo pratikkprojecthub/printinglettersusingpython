{
 "cells": [
  {
   "cell_type": "markdown",
   "metadata": {},
   "source": [
    "# Printing the English Alphabet K"
   ]
  },
  {
   "cell_type": "code",
   "execution_count": 2,
   "metadata": {},
   "outputs": [
    {
     "name": "stdout",
     "output_type": "stream",
     "text": [
      "*   *\n",
      "*  * \n",
      "* *  \n",
      "**   \n",
      "* *  \n",
      "*  * \n",
      "*   *\n"
     ]
    }
   ],
   "source": [
    "i=0\n",
    "j=4\n",
    "for row in range(7):\n",
    "    for col in range(5):\n",
    "        if col==0  or (row==col+2 and col>1):\n",
    "            print(\"*\",end=\"\")\n",
    "        elif((row==i and col==j)and col>0):\n",
    "                print(\"*\",end=\"\")\n",
    "                i=i+1\n",
    "                j=j-1\n",
    "        else:\n",
    "                    print(end=\" \")\n",
    "    print()   "
   ]
  },
  {
   "cell_type": "code",
   "execution_count": 11,
   "metadata": {},
   "outputs": [
    {
     "name": "stdout",
     "output_type": "stream",
     "text": [
      " #   $ \n",
      " #  $  \n",
      " # $   \n",
      " ##    \n",
      " # #   \n",
      " #  #  \n",
      " #   # \n",
      "\n"
     ]
    }
   ],
   "source": [
    "a=\"\";    \n",
    "j = 5;    \n",
    "i = 0;  \n",
    "for Row in range(0,7):    \n",
    "    for Col in range(0,7):     \n",
    "        if (Col == 1 or ((Row == Col + 1) and Col != 0)):  \n",
    "            a+=\"#\"    \n",
    "        elif (Row == i and Col == j):  \n",
    "              a+=\"$\"    \n",
    "              i=i+1  \n",
    "              j=j-1  \n",
    "        else:      \n",
    "            a+=\" \"    \n",
    "    a+=\"\\n\"    \n",
    "print(a);   "
   ]
  },
  {
   "cell_type": "code",
   "execution_count": 9,
   "metadata": {},
   "outputs": [
    {
     "name": "stdout",
     "output_type": "stream",
     "text": [
      "$   #\n",
      "$  # \n",
      "$ #  \n",
      "$#   \n",
      "$ $  \n",
      "$  $ \n",
      "$   $\n"
     ]
    }
   ],
   "source": [
    "a=0\n",
    "b=4\n",
    "for row in range(7):\n",
    "    for col in range(5):\n",
    "        if col==0  or (row==col+2 and col>1):\n",
    "            print(\"$\",end=\"\")\n",
    "        elif((row==a and col==b)and col>0):\n",
    "                print(\"#\",end=\"\")\n",
    "                a+=1\n",
    "                b-=1\n",
    "        else:\n",
    "                    print(end=\" \")\n",
    "    print()   "
   ]
  },
  {
   "cell_type": "code",
   "execution_count": 13,
   "metadata": {},
   "outputs": [
    {
     "name": "stdout",
     "output_type": "stream",
     "text": [
      " @   $ \n",
      " @  $  \n",
      " @ $   \n",
      " @@    \n",
      " @ @   \n",
      " @  @  \n",
      " @   @ \n",
      "\n"
     ]
    }
   ],
   "source": [
    "a=\"\";    \n",
    "j = 5;    \n",
    "i = 0;  \n",
    "for Row in range(0,7):    \n",
    "    for Col in range(0,7):     \n",
    "        if (Col == 1 or ((Row == Col + 1) and Col != 0)):  \n",
    "            a+=\"@\"    \n",
    "        elif (Row == i and Col == j):  \n",
    "              a+=\"$\"    \n",
    "              i=i+1  \n",
    "              j=j-1  \n",
    "        else:      \n",
    "            a+=\" \"    \n",
    "    a+=\"\\n\"    \n",
    "print(a);  "
   ]
  },
  {
   "cell_type": "code",
   "execution_count": 14,
   "metadata": {},
   "outputs": [
    {
     "name": "stdout",
     "output_type": "stream",
     "text": [
      "#   &\n",
      "#  & \n",
      "# &  \n",
      "#&   \n",
      "# #  \n",
      "#  # \n",
      "#   #\n"
     ]
    }
   ],
   "source": [
    "a=0\n",
    "b=4\n",
    "for row in range(7):\n",
    "    for col in range(5):\n",
    "        if col==0  or (row==col+2 and col>1):\n",
    "            print(\"#\",end=\"\")\n",
    "        elif((row==a and col==b)and col>0):\n",
    "                print(\"&\",end=\"\")\n",
    "                a+=1\n",
    "                b-=1\n",
    "        else:\n",
    "                    print(end=\" \")\n",
    "    print()  "
   ]
  },
  {
   "cell_type": "code",
   "execution_count": null,
   "metadata": {},
   "outputs": [],
   "source": []
  },
  {
   "cell_type": "code",
   "execution_count": null,
   "metadata": {},
   "outputs": [],
   "source": []
  }
 ],
 "metadata": {
  "kernelspec": {
   "display_name": "Python 3",
   "language": "python",
   "name": "python3"
  },
  "language_info": {
   "codemirror_mode": {
    "name": "ipython",
    "version": 3
   },
   "file_extension": ".py",
   "mimetype": "text/x-python",
   "name": "python",
   "nbconvert_exporter": "python",
   "pygments_lexer": "ipython3",
   "version": "3.8.8"
  }
 },
 "nbformat": 4,
 "nbformat_minor": 2
}
