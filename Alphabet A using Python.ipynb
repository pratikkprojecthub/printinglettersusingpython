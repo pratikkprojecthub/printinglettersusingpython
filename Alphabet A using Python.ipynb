{
 "cells": [
  {
   "cell_type": "markdown",
   "id": "28cf3346",
   "metadata": {},
   "source": [
    "# Printing the English alphabet A "
   ]
  },
  {
   "cell_type": "code",
   "execution_count": 7,
   "id": "25f0d200",
   "metadata": {},
   "outputs": [
    {
     "name": "stdout",
     "output_type": "stream",
     "text": [
      " ### \n",
      "#   #\n",
      "#   #\n",
      "#####\n",
      "#   #\n",
      "#   #\n",
      "#   #\n"
     ]
    }
   ],
   "source": [
    "for row in range(7):    \n",
    "    for col in range(5):     \n",
    "        if ((col==0 or col==4)and row!=0) or ((row==0 or row==3) and (col>0 and col<4)):    \n",
    "            print(\"#\",end=\"\")\n",
    "        else:\n",
    "            print(end=\" \")\n",
    "    print() "
   ]
  },
  {
   "cell_type": "code",
   "execution_count": 4,
   "id": "17822c2e",
   "metadata": {},
   "outputs": [
    {
     "name": "stdout",
     "output_type": "stream",
     "text": [
      "*****\n",
      "*   *\n",
      "*   *\n",
      "*****\n",
      "*   *\n",
      "*   *\n",
      "*   *\n"
     ]
    }
   ],
   "source": [
    "for row in range(7):    \n",
    "    for col in range(5):     \n",
    "        if ((col==0 or col==4)) or ((row==0 or row==3) and (col>0 and col<4)):    \n",
    "            print(\"*\",end=\"\")\n",
    "        else:\n",
    "            print(end=\" \")\n",
    "    print() "
   ]
  },
  {
   "cell_type": "code",
   "execution_count": 5,
   "id": "0c08e102",
   "metadata": {},
   "outputs": [
    {
     "name": "stdout",
     "output_type": "stream",
     "text": [
      "@@@@@\n",
      "@   @\n",
      "@   @\n",
      "@@@@@\n",
      "@   @\n",
      "@   @\n",
      "@   @\n"
     ]
    }
   ],
   "source": [
    "for row in range(7):    \n",
    "    for col in range(5):     \n",
    "        if ((col==0 or col==4)) or ((row==0 or row==3) and (col>0 and col<4)):    \n",
    "            print(\"@\",end=\"\")\n",
    "        else:\n",
    "            print(end=\" \")\n",
    "    print() "
   ]
  },
  {
   "cell_type": "code",
   "execution_count": 6,
   "id": "ce3a3bbc",
   "metadata": {},
   "outputs": [
    {
     "name": "stdout",
     "output_type": "stream",
     "text": [
      "&&&&&\n",
      "&   &\n",
      "&   &\n",
      "&&&&&\n",
      "&   &\n",
      "&   &\n",
      "&   &\n"
     ]
    }
   ],
   "source": [
    "for row in range(7):    \n",
    "    for col in range(5):     \n",
    "        if ((col==0 or col==4)) or ((row==0 or row==3) and (col>0 and col<4)):    \n",
    "            print(\"&\",end=\"\")\n",
    "        else:\n",
    "            print(end=\" \")\n",
    "    print() "
   ]
  },
  {
   "cell_type": "code",
   "execution_count": null,
   "id": "fe42ff02",
   "metadata": {},
   "outputs": [],
   "source": []
  }
 ],
 "metadata": {
  "kernelspec": {
   "display_name": "Python 3",
   "language": "python",
   "name": "python3"
  },
  "language_info": {
   "codemirror_mode": {
    "name": "ipython",
    "version": 3
   },
   "file_extension": ".py",
   "mimetype": "text/x-python",
   "name": "python",
   "nbconvert_exporter": "python",
   "pygments_lexer": "ipython3",
   "version": "3.8.8"
  }
 },
 "nbformat": 4,
 "nbformat_minor": 5
}
