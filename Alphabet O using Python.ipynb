{
 "cells": [
  {
   "cell_type": "markdown",
   "id": "f69e50dc",
   "metadata": {},
   "source": [
    "# Printing the English Alphabet O"
   ]
  },
  {
   "cell_type": "code",
   "execution_count": 1,
   "id": "5b9e3f04",
   "metadata": {},
   "outputs": [
    {
     "name": "stdout",
     "output_type": "stream",
     "text": [
      " *** \n",
      "*   *\n",
      "*   *\n",
      "*   *\n",
      "*   *\n",
      "*   *\n",
      " *** \n"
     ]
    }
   ],
   "source": [
    "for row in range(7):    \n",
    "    for col in range(5):     \n",
    "        if((col==0 or col==4)and (row!=0 and row!=6))or((row==0 or row==6)and (col>0 and col<4)): \n",
    "            print(\"*\",end=\"\")\n",
    "        else:\n",
    "            print(end=\" \")\n",
    "    print()  "
   ]
  },
  {
   "cell_type": "code",
   "execution_count": 2,
   "id": "dd816fd9",
   "metadata": {},
   "outputs": [
    {
     "name": "stdout",
     "output_type": "stream",
     "text": [
      " @@@ \n",
      "@   @\n",
      "@   @\n",
      "@   @\n",
      "@   @\n",
      "@   @\n",
      " @@@ \n",
      "\n"
     ]
    }
   ],
   "source": [
    "a=\"\";    \n",
    "for row in range(7):    \n",
    "    for col in range(5):     \n",
    "        if((col==0 or col==4)and (row!=0 and row!=6))or((row==0 or row==6)and (col>0 and col<4)): \n",
    "            a=a+\"@\"    \n",
    "        else:      \n",
    "            a=a+\" \"    \n",
    "    a=a+\"\\n\"    \n",
    "print(a);    "
   ]
  },
  {
   "cell_type": "code",
   "execution_count": 3,
   "id": "d713f4f9",
   "metadata": {},
   "outputs": [
    {
     "name": "stdout",
     "output_type": "stream",
     "text": [
      "  ###  \n",
      " #   # \n",
      " #   # \n",
      " #   # \n",
      " #   # \n",
      " #   # \n",
      "  ###  \n",
      "\n"
     ]
    }
   ],
   "source": [
    "a=\"\";\n",
    "for row in range(0,7):    \n",
    "    for column in range(0,7):     \n",
    "        if (((column == 1 or column == 5) and row != 0 and row != 6) or ((row == 0 or row == 6) and column > 1 and column < 5)):\n",
    "            a=a+\"#\"    \n",
    "        else:      \n",
    "            a=a+\" \"    \n",
    "    a=a+\"\\n\"    \n",
    "print(a)"
   ]
  },
  {
   "cell_type": "code",
   "execution_count": 5,
   "id": "66d22a7b",
   "metadata": {},
   "outputs": [
    {
     "name": "stdout",
     "output_type": "stream",
     "text": [
      "  $$$  \n",
      " $   $ \n",
      " $   $ \n",
      " $   $ \n",
      " $   $ \n",
      " $   $ \n",
      "  $$$  \n",
      "\n"
     ]
    }
   ],
   "source": [
    "a=\"\";\n",
    "for row in range(0,7):    \n",
    "    for column in range(0,7):     \n",
    "        if (((column == 1 or column == 5) and row != 0 and row != 6) or ((row == 0 or row == 6) and column > 1 and column < 5)):\n",
    "            a=a+\"$\"    \n",
    "        else:      \n",
    "            a=a+\" \"    \n",
    "    a=a+\"\\n\"    \n",
    "print(a)"
   ]
  },
  {
   "cell_type": "code",
   "execution_count": 7,
   "id": "97c54cad",
   "metadata": {},
   "outputs": [
    {
     "name": "stdout",
     "output_type": "stream",
     "text": [
      " &&& \n",
      "&   &\n",
      "&   &\n",
      "&   &\n",
      "&   &\n",
      "&   &\n",
      " &&& \n"
     ]
    }
   ],
   "source": [
    "for row in range(7):    \n",
    "    for col in range(5):     \n",
    "        if((col==0 or col==4)and (row!=0 and row!=6))or((row==0 or row==6)and (col>0 and col<4)): \n",
    "            print(\"&\",end=\"\")\n",
    "        else:\n",
    "            print(end=\" \")\n",
    "    print()   "
   ]
  },
  {
   "cell_type": "code",
   "execution_count": null,
   "id": "53fce63e",
   "metadata": {},
   "outputs": [],
   "source": []
  }
 ],
 "metadata": {
  "kernelspec": {
   "display_name": "Python 3",
   "language": "python",
   "name": "python3"
  },
  "language_info": {
   "codemirror_mode": {
    "name": "ipython",
    "version": 3
   },
   "file_extension": ".py",
   "mimetype": "text/x-python",
   "name": "python",
   "nbconvert_exporter": "python",
   "pygments_lexer": "ipython3",
   "version": "3.8.8"
  }
 },
 "nbformat": 4,
 "nbformat_minor": 5
}
