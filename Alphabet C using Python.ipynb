{
 "cells": [
  {
   "cell_type": "markdown",
   "id": "28cf3346",
   "metadata": {},
   "source": [
    "# Printing the English Alphabet C"
   ]
  },
  {
   "cell_type": "code",
   "execution_count": 13,
   "id": "852ae32f",
   "metadata": {},
   "outputs": [
    {
     "name": "stdout",
     "output_type": "stream",
     "text": [
      "@@@@\n",
      "@   \n",
      "@   \n",
      "@@@@\n"
     ]
    }
   ],
   "source": [
    "for row in range(4):    \n",
    "    for col in range(4):     \n",
    "        if (col==0) or (row==0 or row==3) and (col>0) :    \n",
    "            print(\"@\",end=\"\")\n",
    "        else:\n",
    "            print(end=\" \")\n",
    "    print()"
   ]
  },
  {
   "cell_type": "code",
   "execution_count": 19,
   "id": "25f0d200",
   "metadata": {},
   "outputs": [
    {
     "name": "stdout",
     "output_type": "stream",
     "text": [
      "  &&&  \n",
      " &   & \n",
      " &     \n",
      " &     \n",
      " &     \n",
      " &   & \n",
      "  &&&  \n",
      "\n"
     ]
    }
   ],
   "source": [
    "a=\"\";    \n",
    "for Row in range(0,7):    \n",
    "    for Col in range(0,7):     \n",
    "        if ((Col == 1 and (Row != 0 and Row != 6)) or ((Row == 0 or Row == 6) and (Col > 1 and Col < 5)) or (Col == 5 and (Row == 1 or Row == 5))):  \n",
    "            a+=\"&\"    \n",
    "        else:      \n",
    "            a+=\" \"    \n",
    "    a+=\"\\n\"    \n",
    "print(a);"
   ]
  },
  {
   "cell_type": "code",
   "execution_count": 17,
   "id": "17822c2e",
   "metadata": {},
   "outputs": [
    {
     "name": "stdout",
     "output_type": "stream",
     "text": [
      "PLease enter size: \t 8\n",
      " ##########\n",
      "#          \n",
      "#          \n",
      "#          \n",
      "#          \n",
      "#          \n",
      "#          \n",
      " ##########\n"
     ]
    }
   ],
   "source": [
    "def print_pattern(n):\n",
    "    # Outer for loop for number of lines(rows)\n",
    "    for i in range(n):\n",
    "\n",
    "        # Inner for loop for logic execution\n",
    "        for j in range(n + 3):\n",
    "\n",
    "            # Print 1st line\n",
    "            if ((i == 0 or\n",
    "\n",
    "                 # Print last line\n",
    "                 i == n - 1) and\n",
    "\n",
    "                    # For more reasonable curve\n",
    "                    j > 0 or\n",
    "\n",
    "                    # First column\n",
    "                    (j == 0 and (i != 0 and i != n - 1))):\n",
    "                print(\"#\", end=\"\")\n",
    "            else:\n",
    "                print(\" \", end=\"\")\n",
    "        print()\n",
    "\n",
    "\n",
    "# Size of the letter\n",
    "num = int(input(\"PLease enter size: \\t \"))\n",
    "\n",
    "if num > 7:\n",
    "    print_pattern(num)\n",
    "else:\n",
    "    print(\"Enter a size minimum of 10\")"
   ]
  },
  {
   "cell_type": "code",
   "execution_count": null,
   "id": "0c08e102",
   "metadata": {},
   "outputs": [],
   "source": []
  },
  {
   "cell_type": "code",
   "execution_count": null,
   "id": "ce3a3bbc",
   "metadata": {},
   "outputs": [],
   "source": []
  },
  {
   "cell_type": "code",
   "execution_count": null,
   "id": "fe42ff02",
   "metadata": {},
   "outputs": [],
   "source": []
  }
 ],
 "metadata": {
  "kernelspec": {
   "display_name": "Python 3",
   "language": "python",
   "name": "python3"
  },
  "language_info": {
   "codemirror_mode": {
    "name": "ipython",
    "version": 3
   },
   "file_extension": ".py",
   "mimetype": "text/x-python",
   "name": "python",
   "nbconvert_exporter": "python",
   "pygments_lexer": "ipython3",
   "version": "3.8.8"
  }
 },
 "nbformat": 4,
 "nbformat_minor": 5
}
