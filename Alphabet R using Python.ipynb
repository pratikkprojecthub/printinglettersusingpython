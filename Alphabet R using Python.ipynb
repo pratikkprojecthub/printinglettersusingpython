{
 "cells": [
  {
   "cell_type": "markdown",
   "id": "f69e50dc",
   "metadata": {},
   "source": [
    "# Printing the English Alphabet R"
   ]
  },
  {
   "cell_type": "code",
   "execution_count": 1,
   "id": "5b9e3f04",
   "metadata": {},
   "outputs": [
    {
     "name": "stdout",
     "output_type": "stream",
     "text": [
      " ****  \n",
      " *   * \n",
      " *   * \n",
      " ****  \n",
      " * *   \n",
      " *  *  \n",
      " *   * \n"
     ]
    }
   ],
   "source": [
    "for row in range(7):    \n",
    "    for col in range(7):     \n",
    "        if(col==1 or((row==0 or row==3)and col>1 and col<5)or(col==5 and row!=0 and row<3)or(col==row-1 and row>2)):\n",
    "            print(\"*\",end=\"\")\n",
    "        else:\n",
    "            print(end=\" \")\n",
    "    print()"
   ]
  },
  {
   "cell_type": "code",
   "execution_count": 2,
   "id": "5d8e1a38",
   "metadata": {},
   "outputs": [
    {
     "name": "stdout",
     "output_type": "stream",
     "text": [
      " @@@@  \n",
      " @   @ \n",
      " @   @ \n",
      " @@@@  \n",
      " @ @   \n",
      " @  @  \n",
      " @   @ \n",
      "\n"
     ]
    }
   ],
   "source": [
    "a=\"\";    \n",
    "for Row in range(0,7):    \n",
    "    for Col in range(0,7):     \n",
    "        if(Col==1 or((Row==0 or Row==3)and Col>1 and Col<5)or(Col==5 and Row!=0 and Row<3)or(Col==Row-1 and Row>2)):  \n",
    "            a=a+\"@\"    \n",
    "        else:      \n",
    "            a=a+\" \"    \n",
    "    a=a+\"\\n\"    \n",
    "print(a);"
   ]
  },
  {
   "cell_type": "code",
   "execution_count": 3,
   "id": "dd816fd9",
   "metadata": {},
   "outputs": [
    {
     "name": "stdout",
     "output_type": "stream",
     "text": [
      " ####  \n",
      " #   # \n",
      " #   # \n",
      " ####  \n",
      " # #   \n",
      " #  #  \n",
      " #   # \n",
      " #    #\n",
      "\n"
     ]
    }
   ],
   "source": [
    "a=\"\";    \n",
    "for row in range(8):    \n",
    "    for col in range(7):     \n",
    "        if(col==1 or((row==0 or row==3)and col>1 and col<5)or(col==5 and row!=0 and row<3)or(col==row-1 and row>2)): \n",
    "            a=a+\"#\"    \n",
    "        else:      \n",
    "            a=a+\" \"    \n",
    "    a=a+\"\\n\"    \n",
    "print(a)"
   ]
  },
  {
   "cell_type": "code",
   "execution_count": 4,
   "id": "c7442e60",
   "metadata": {},
   "outputs": [
    {
     "name": "stdout",
     "output_type": "stream",
     "text": [
      " RRRR  \n",
      " R   R \n",
      " R   R \n",
      " RRRR  \n",
      " R R   \n",
      " R  R  \n",
      " R   R \n",
      "\n"
     ]
    }
   ],
   "source": [
    "a=\"\";    \n",
    "for Row in range(0,7):    \n",
    "    for Col in range(0,7):     \n",
    "        if(Col==1 or((Row==0 or Row==3)and Col>1 and Col<5)or(Col==5 and Row!=0 and Row<3)or(Col==Row-1 and Row>2)):  \n",
    "            a=a+\"R\"    \n",
    "        else:      \n",
    "            a=a+\" \"    \n",
    "    a=a+\"\\n\"    \n",
    "print(a);"
   ]
  },
  {
   "cell_type": "code",
   "execution_count": 5,
   "id": "d713f4f9",
   "metadata": {},
   "outputs": [
    {
     "name": "stdout",
     "output_type": "stream",
     "text": [
      " &&&&  \n",
      " &   & \n",
      " &   & \n",
      " &&&&  \n",
      " & &   \n",
      " &  &  \n",
      " &   & \n",
      " &    &\n",
      "\n"
     ]
    }
   ],
   "source": [
    "a=\"\";\n",
    "for row in range(0,8):    \n",
    "    for col in range(0,7):     \n",
    "        if(col==1 or((row==0 or row==3)and col>1 and col<5)or(col==5 and row!=0 and row<3)or(col==row-1 and row>2)):\n",
    "            a=a+\"&\"    \n",
    "        else:      \n",
    "            a=a+\" \"    \n",
    "    a=a+\"\\n\"    \n",
    "print(a)"
   ]
  },
  {
   "cell_type": "code",
   "execution_count": 6,
   "id": "66d22a7b",
   "metadata": {},
   "outputs": [
    {
     "name": "stdout",
     "output_type": "stream",
     "text": [
      " $$$$  \n",
      " $   $ \n",
      " $   $ \n",
      " $$$$  \n",
      " $ $   \n",
      " $  $  \n",
      " $   $ \n",
      " $    $\n",
      "\n"
     ]
    }
   ],
   "source": [
    "a=\"\";    \n",
    "for row in range(8):    \n",
    "    for col in range(7):     \n",
    "        if(col==1 or((row==0 or row==3)and col>1 and col<5)or(col==5 and row!=0 and row<3)or(col==row-1 and row>2)): \n",
    "            a=a+\"$\"    \n",
    "        else:      \n",
    "            a=a+\" \"    \n",
    "    a=a+\"\\n\"    \n",
    "print(a)"
   ]
  },
  {
   "cell_type": "code",
   "execution_count": 7,
   "id": "97c54cad",
   "metadata": {},
   "outputs": [
    {
     "name": "stdout",
     "output_type": "stream",
     "text": [
      " ++++  \n",
      " +   + \n",
      " +   + \n",
      " ++++  \n",
      " + +   \n",
      " +  +  \n",
      " +   + \n",
      " +    +\n"
     ]
    }
   ],
   "source": [
    "for row in range(8):    \n",
    "    for col in range(7):     \n",
    "        if(col==1 or((row==0 or row==3)and col>1 and col<5)or(col==5 and row!=0 and row<3)or(col==row-1 and row>2)):\n",
    "            print(\"+\",end=\"\")\n",
    "        else:\n",
    "            print(end=\" \")\n",
    "    print()   "
   ]
  },
  {
   "cell_type": "code",
   "execution_count": null,
   "id": "53fce63e",
   "metadata": {},
   "outputs": [],
   "source": []
  },
  {
   "cell_type": "code",
   "execution_count": null,
   "id": "1d88469c",
   "metadata": {},
   "outputs": [],
   "source": []
  },
  {
   "cell_type": "code",
   "execution_count": null,
   "id": "0dfee74d",
   "metadata": {},
   "outputs": [],
   "source": []
  }
 ],
 "metadata": {
  "kernelspec": {
   "display_name": "Python 3",
   "language": "python",
   "name": "python3"
  },
  "language_info": {
   "codemirror_mode": {
    "name": "ipython",
    "version": 3
   },
   "file_extension": ".py",
   "mimetype": "text/x-python",
   "name": "python",
   "nbconvert_exporter": "python",
   "pygments_lexer": "ipython3",
   "version": "3.8.8"
  }
 },
 "nbformat": 4,
 "nbformat_minor": 5
}
