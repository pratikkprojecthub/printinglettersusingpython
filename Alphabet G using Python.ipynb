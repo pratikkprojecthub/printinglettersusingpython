{
 "cells": [
  {
   "cell_type": "markdown",
   "id": "28cf3346",
   "metadata": {},
   "source": [
    "# Printing the English Alphabet G"
   ]
  },
  {
   "cell_type": "code",
   "execution_count": 1,
   "id": "852ae32f",
   "metadata": {},
   "outputs": [
    {
     "name": "stdout",
     "output_type": "stream",
     "text": [
      "  ***  \n",
      " *   * \n",
      " *     \n",
      " * *** \n",
      " *   * \n",
      " *   * \n",
      "  ***  \n"
     ]
    }
   ],
   "source": [
    "for row in range(7):    \n",
    "    for col in range(7):\n",
    "        if ((col==1 and row!= 0 and row!= 6) or((row==0 or row==6) and col>1 and col<5) or(row==3 and col>2 and col<6) or (col==5 and row!=0 and row!=2 and row!=6)):  \n",
    "                   print(\"*\",end=\"\")\n",
    "        else:\n",
    "                   print(end=\" \")\n",
    "    print()       "
   ]
  },
  {
   "cell_type": "code",
   "execution_count": 5,
   "id": "8ef37be2",
   "metadata": {},
   "outputs": [
    {
     "name": "stdout",
     "output_type": "stream",
     "text": [
      "  &&&  \n",
      " &     \n",
      " &     \n",
      " & &&& \n",
      " &   & \n",
      " &   & \n",
      "  &&&  \n",
      "\n"
     ]
    }
   ],
   "source": [
    "# Printing the English Alphabet G\n",
    "def PatG(l):\n",
    "    p=\"\"\n",
    "    for i in range(0,l):   \n",
    "        for j in range(0,l):    \n",
    "            if ((j == 1 and i != 0 and i != l-1) or ((i == 0 or\n",
    "                i == l-1) and j > 1 and j < l-2) or (i == ((l-1)/2)\n",
    "                and j > l-5 and j < l-1) or (j == l-2 and\n",
    "                i != 0 and i != l-1 and i >=((l-1)/2))): \n",
    "                p+=\"&\"  \n",
    "            else:     \n",
    "                p+=\" \"  \n",
    "        p+=\"\\n\"  \n",
    "    return p\n",
    "  \n",
    "# Code\n",
    "l = 7\n",
    "print(PatG(l))"
   ]
  },
  {
   "cell_type": "code",
   "execution_count": 6,
   "id": "0c08e102",
   "metadata": {},
   "outputs": [
    {
     "name": "stdout",
     "output_type": "stream",
     "text": [
      "  @@@  \n",
      " @   @ \n",
      " @     \n",
      " @ @@@ \n",
      " @   @ \n",
      " @   @ \n",
      "  @@@  \n"
     ]
    }
   ],
   "source": [
    "for row in range(7):    \n",
    "    for col in range(7):\n",
    "        if ((col==1 and row!= 0 and row!= 6) or((row==0 or row==6) and col>1 and col<5) or(row==3 and col>2 and col<6) or (col==5 and row!=0 and row!=2 and row!=6)):  \n",
    "                   print(\"@\",end=\"\")\n",
    "        else:\n",
    "                   print(end=\" \")\n",
    "    print() "
   ]
  },
  {
   "cell_type": "code",
   "execution_count": 8,
   "id": "ce3a3bbc",
   "metadata": {},
   "outputs": [
    {
     "name": "stdout",
     "output_type": "stream",
     "text": [
      "  ###  \n",
      " #     \n",
      " #     \n",
      " # ### \n",
      " #   # \n",
      " #   # \n",
      "  ###  \n",
      "\n"
     ]
    }
   ],
   "source": [
    "# Printing the English Alphabet G\n",
    "def PatG(l):\n",
    "    p=\"\"\n",
    "    for i in range(0,l):   \n",
    "        for j in range(0,l):    \n",
    "            if ((j == 1 and i != 0 and i != l-1) or ((i == 0 or\n",
    "                i == l-1) and j > 1 and j < l-2) or (i == ((l-1)/2)\n",
    "                and j > l-5 and j < l-1) or (j == l-2 and\n",
    "                i != 0 and i != l-1 and i >=((l-1)/2))): \n",
    "                p+=\"#\"  \n",
    "            else:     \n",
    "                p+=\" \"  \n",
    "        p+=\"\\n\"  \n",
    "    return p\n",
    "  \n",
    "#Code\n",
    "l = 7\n",
    "print(PatG(l))"
   ]
  },
  {
   "cell_type": "code",
   "execution_count": null,
   "id": "fe42ff02",
   "metadata": {},
   "outputs": [],
   "source": []
  }
 ],
 "metadata": {
  "kernelspec": {
   "display_name": "Python 3",
   "language": "python",
   "name": "python3"
  },
  "language_info": {
   "codemirror_mode": {
    "name": "ipython",
    "version": 3
   },
   "file_extension": ".py",
   "mimetype": "text/x-python",
   "name": "python",
   "nbconvert_exporter": "python",
   "pygments_lexer": "ipython3",
   "version": "3.8.8"
  }
 },
 "nbformat": 4,
 "nbformat_minor": 5
}
