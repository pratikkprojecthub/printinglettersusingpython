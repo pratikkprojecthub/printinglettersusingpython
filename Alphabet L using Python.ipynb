{
 "cells": [
  {
   "cell_type": "markdown",
   "id": "1689ae2d",
   "metadata": {},
   "source": [
    "# Printing the English Alphabet L"
   ]
  },
  {
   "cell_type": "code",
   "execution_count": 6,
   "id": "f41e3823",
   "metadata": {},
   "outputs": [
    {
     "name": "stdout",
     "output_type": "stream",
     "text": [
      " *   \n",
      " *   \n",
      " *   \n",
      " *   \n",
      " *   \n",
      " *   \n",
      " ****\n"
     ]
    }
   ],
   "source": [
    "for row in range(7):    \n",
    "    for col in range(5):\n",
    "        if(col==1 or (row == 6 and col!=0 and col<6)):\n",
    "            print(\"*\",end=\"\")\n",
    "        else:\n",
    "            print(end=\" \")\n",
    "    print() "
   ]
  },
  {
   "cell_type": "code",
   "execution_count": 7,
   "id": "4453eefe",
   "metadata": {},
   "outputs": [
    {
     "name": "stdout",
     "output_type": "stream",
     "text": [
      " #     \n",
      " #     \n",
      " #     \n",
      " #     \n",
      " #     \n",
      " #     \n",
      " ##### \n",
      "\n"
     ]
    }
   ],
   "source": [
    "a=\"\";    \n",
    "for row in range(0,7):    \n",
    "    for column in range(0,7):     \n",
    "        if (column == 1 or (row == 6 and column != 0 and column < 6)):  \n",
    "            a=a+\"#\"    \n",
    "        else:      \n",
    "            a=a+\" \"    \n",
    "    a=a+\"\\n\"     \n",
    "print(a);"
   ]
  },
  {
   "cell_type": "code",
   "execution_count": 8,
   "id": "16cce9e7",
   "metadata": {},
   "outputs": [
    {
     "name": "stdout",
     "output_type": "stream",
     "text": [
      " $   \n",
      " $   \n",
      " $   \n",
      " $   \n",
      " $   \n",
      " $   \n",
      " $$$$\n"
     ]
    }
   ],
   "source": [
    "for row in range(7):    \n",
    "    for col in range(5):\n",
    "        if(col==1 or (row == 6 and col!=0 and col<6)):\n",
    "            print(\"$\",end=\"\")\n",
    "        else:\n",
    "            print(end=\" \")\n",
    "    print() "
   ]
  },
  {
   "cell_type": "code",
   "execution_count": 9,
   "id": "d81d3605",
   "metadata": {},
   "outputs": [
    {
     "name": "stdout",
     "output_type": "stream",
     "text": [
      " @     \n",
      " @     \n",
      " @     \n",
      " @     \n",
      " @     \n",
      " @     \n",
      " @@@@@ \n",
      "\n"
     ]
    }
   ],
   "source": [
    "a=\"\";    \n",
    "for row in range(0,7):    \n",
    "    for column in range(0,7):     \n",
    "        if (column == 1 or (row == 6 and column != 0 and column < 6)):  \n",
    "            a=a+\"@\"    \n",
    "        else:      \n",
    "            a=a+\" \"    \n",
    "    a=a+\"\\n\"     \n",
    "print(a);"
   ]
  },
  {
   "cell_type": "code",
   "execution_count": null,
   "id": "e176e69f",
   "metadata": {},
   "outputs": [],
   "source": []
  }
 ],
 "metadata": {
  "kernelspec": {
   "display_name": "Python 3",
   "language": "python",
   "name": "python3"
  },
  "language_info": {
   "codemirror_mode": {
    "name": "ipython",
    "version": 3
   },
   "file_extension": ".py",
   "mimetype": "text/x-python",
   "name": "python",
   "nbconvert_exporter": "python",
   "pygments_lexer": "ipython3",
   "version": "3.8.8"
  }
 },
 "nbformat": 4,
 "nbformat_minor": 5
}
