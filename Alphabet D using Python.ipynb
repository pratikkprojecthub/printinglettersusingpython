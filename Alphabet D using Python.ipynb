{
 "cells": [
  {
   "cell_type": "markdown",
   "id": "28cf3346",
   "metadata": {},
   "source": [
    "# Printing the English Alphabet D"
   ]
  },
  {
   "cell_type": "code",
   "execution_count": 1,
   "id": "852ae32f",
   "metadata": {},
   "outputs": [
    {
     "name": "stdout",
     "output_type": "stream",
     "text": [
      " ****  \n",
      " *   * \n",
      " *   * \n",
      " *   * \n",
      " *   * \n",
      " *   * \n",
      " ****  \n"
     ]
    }
   ],
   "source": [
    "for row in range(7):    \n",
    "    for col in range(7):     \n",
    "        if(col==1 or((row==0 or row==6)and(col>1 and col<5))or(col==5 and row!=0 and row!=6)):    \n",
    "            print(\"*\",end=\"\")\n",
    "        else:\n",
    "            print(end=\" \")\n",
    "    print()        "
   ]
  },
  {
   "cell_type": "code",
   "execution_count": 3,
   "id": "25f0d200",
   "metadata": {},
   "outputs": [
    {
     "name": "stdout",
     "output_type": "stream",
     "text": [
      " ####  \n",
      " #   # \n",
      " #   # \n",
      " #   # \n",
      " #   # \n",
      " #   # \n",
      " ####  \n",
      "\n"
     ]
    }
   ],
   "source": [
    "a=\"\";    \n",
    "for Row in range(0,7):    \n",
    "    for Col in range(0,7):     \n",
    "        if (Col == 1 or ((Row == 0 or Row == 6) and (Col > 1 and Col < 5)) or (Col == 5 and Row != 0 and Row != 6)):  \n",
    "            a+=\"#\"    \n",
    "        else:      \n",
    "            a+=\" \"    \n",
    "    a=a+\"\\n\"    \n",
    "print(a); "
   ]
  },
  {
   "cell_type": "code",
   "execution_count": 5,
   "id": "17822c2e",
   "metadata": {},
   "outputs": [
    {
     "name": "stdout",
     "output_type": "stream",
     "text": [
      " @@@@  \n",
      " @   @ \n",
      " @   @ \n",
      " @   @ \n",
      " @   @ \n",
      " @   @ \n",
      " @@@@  \n",
      "\n"
     ]
    }
   ],
   "source": [
    "a=\"\";    \n",
    "for row in range(0,7):    \n",
    "    for column in range(0,7):     \n",
    "        if (column == 1 or ((row == 0 or row == 6) and (column > 1 and column < 5)) or (column == 5 and row != 0 and row != 6)):  \n",
    "            a+=\"@\"    \n",
    "        else:      \n",
    "            a+=\" \"    \n",
    "    a+=\"\\n\"    \n",
    "print(a);"
   ]
  },
  {
   "cell_type": "code",
   "execution_count": null,
   "id": "0c08e102",
   "metadata": {},
   "outputs": [],
   "source": []
  },
  {
   "cell_type": "code",
   "execution_count": null,
   "id": "ce3a3bbc",
   "metadata": {},
   "outputs": [],
   "source": []
  },
  {
   "cell_type": "code",
   "execution_count": null,
   "id": "fe42ff02",
   "metadata": {},
   "outputs": [],
   "source": []
  }
 ],
 "metadata": {
  "kernelspec": {
   "display_name": "Python 3",
   "language": "python",
   "name": "python3"
  },
  "language_info": {
   "codemirror_mode": {
    "name": "ipython",
    "version": 3
   },
   "file_extension": ".py",
   "mimetype": "text/x-python",
   "name": "python",
   "nbconvert_exporter": "python",
   "pygments_lexer": "ipython3",
   "version": "3.8.8"
  }
 },
 "nbformat": 4,
 "nbformat_minor": 5
}
