{
 "cells": [
  {
   "cell_type": "markdown",
   "metadata": {},
   "source": [
    "# Printing the English Alphabet H"
   ]
  },
  {
   "cell_type": "code",
   "execution_count": 9,
   "metadata": {},
   "outputs": [
    {
     "name": "stdout",
     "output_type": "stream",
     "text": [
      "*   *\n",
      "*   *\n",
      "*   *\n",
      "*****\n",
      "*   *\n",
      "*   *\n",
      "*   *\n"
     ]
    }
   ],
   "source": [
    "for row in range(7):    \n",
    "    for col in range(5):\n",
    "        if col==0 or col==4 or (row==3 and (col>0 and col<4)):\n",
    "            print(\"*\",end=\"\")\n",
    "        else:\n",
    "            print(end=\" \")\n",
    "    print()"
   ]
  },
  {
   "cell_type": "code",
   "execution_count": 4,
   "metadata": {},
   "outputs": [
    {
     "name": "stdout",
     "output_type": "stream",
     "text": [
      "1     4\n",
      "2     3\n",
      "3     2\n",
      "4 3 2 1\n",
      "3     2\n",
      "2     3\n",
      "1     4\n"
     ]
    }
   ],
   "source": [
    "def alphabetPattern(N):\n",
    "    l, m, r = 0, N - 1, N + 1\n",
    "    for row in range(0, 2 * N - 1):\n",
    " \n",
    "        # cond left Values\n",
    "        if row < N:\n",
    "            l += 1\n",
    "            print(l, end = \"\")\n",
    "        else:\n",
    "            l -= 1\n",
    "            print(l, end = \"\")\n",
    " \n",
    "        # middle values\n",
    "        for col in range(1, N - 1):\n",
    " \n",
    "            # Cond for middleValues\n",
    "            if row != N - 1:\n",
    " \n",
    "                # Two spaces for perfect alignment\n",
    "                print(\" \", end = \" \")\n",
    "                 \n",
    "            else:\n",
    "                print(\" \" + str(m), end = \"\")\n",
    "                m -= 1\n",
    " \n",
    "        # Cond right Values\n",
    "        if row < N:\n",
    "            r -= 1\n",
    "            print(\" \" + str(r), end = \"\")\n",
    "        else:\n",
    "            r += 1\n",
    "            print(\" \" + str(r), end = \"\")\n",
    "         \n",
    "        print()\n",
    " \n",
    "# Driver Code\n",
    "if __name__ == \"__main__\":\n",
    " \n",
    "    # Size of the Pattern\n",
    "    N = 4\n",
    "    alphabetPattern(N)"
   ]
  },
  {
   "cell_type": "code",
   "execution_count": 6,
   "metadata": {},
   "outputs": [
    {
     "name": "stdout",
     "output_type": "stream",
     "text": [
      " @   @ \n",
      " @   @ \n",
      " @   @ \n",
      " @@@@@ \n",
      " @   @ \n",
      " @   @ \n",
      " @   @ \n",
      "\n"
     ]
    }
   ],
   "source": [
    "a=\"\";    \n",
    "for Row in range(0,7):    \n",
    "    for Col in range(0,7):     \n",
    "        if ((Col == 1 or Col == 5) or (Row == 3 and Col > 1 and Col < 6)):  \n",
    "            a+=\"@\"   \n",
    "        else:      \n",
    "            a+=\" \"    \n",
    "    a+=\"\\n\"    \n",
    "print(a); "
   ]
  },
  {
   "cell_type": "code",
   "execution_count": 8,
   "metadata": {},
   "outputs": [
    {
     "name": "stdout",
     "output_type": "stream",
     "text": [
      " $   $ \n",
      " $   $ \n",
      " $   $ \n",
      " $$$$$ \n",
      " $   $ \n",
      " $   $ \n",
      " $   $ \n",
      "\n"
     ]
    }
   ],
   "source": [
    "a=\"\";    \n",
    "for Row in range(0,7):    \n",
    "    for Col in range(0,7):     \n",
    "        if ((Col == 1 or Col == 5) or (Row == 3 and Col > 1 and Col < 6)):  \n",
    "            a+=\"$\"   \n",
    "        else:      \n",
    "            a+=\" \"    \n",
    "    a+=\"\\n\"    \n",
    "print(a);  "
   ]
  },
  {
   "cell_type": "code",
   "execution_count": null,
   "metadata": {},
   "outputs": [],
   "source": []
  }
 ],
 "metadata": {
  "kernelspec": {
   "display_name": "Python 3",
   "language": "python",
   "name": "python3"
  },
  "language_info": {
   "codemirror_mode": {
    "name": "ipython",
    "version": 3
   },
   "file_extension": ".py",
   "mimetype": "text/x-python",
   "name": "python",
   "nbconvert_exporter": "python",
   "pygments_lexer": "ipython3",
   "version": "3.8.8"
  }
 },
 "nbformat": 4,
 "nbformat_minor": 2
}
