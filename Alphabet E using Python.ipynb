{
 "cells": [
  {
   "cell_type": "markdown",
   "id": "28cf3346",
   "metadata": {},
   "source": [
    "# Printing the English Alphabet E"
   ]
  },
  {
   "cell_type": "code",
   "execution_count": 1,
   "id": "852ae32f",
   "metadata": {},
   "outputs": [
    {
     "name": "stdout",
     "output_type": "stream",
     "text": [
      " ***** \n",
      " *     \n",
      " *     \n",
      " ****  \n",
      " *     \n",
      " *     \n",
      " ***** \n"
     ]
    }
   ],
   "source": [
    "for row in range(7):    \n",
    "    for col in range(7):     \n",
    "                if (col==1) or ((row==0 or row==6) and (col>1 and col<6)) or (row==3 and col>1 and col<5):    \n",
    "                     print(\"*\",end=\"\")\n",
    "                else:\n",
    "                     print(end=\" \")\n",
    "    print()  "
   ]
  },
  {
   "cell_type": "code",
   "execution_count": 3,
   "id": "25f0d200",
   "metadata": {},
   "outputs": [
    {
     "name": "stdout",
     "output_type": "stream",
     "text": [
      " ##### \n",
      " #     \n",
      " #     \n",
      " ####  \n",
      " #     \n",
      " #     \n",
      " ##### \n",
      "\n"
     ]
    }
   ],
   "source": [
    "a=\"\";    \n",
    "for row in range(0,7):    \n",
    "    for column in range(0,7):     \n",
    "        if (column == 1 or ((row == 0 or row == 6) and (column > 1 and column < 6)) or (row == 3 and column > 1 and column < 5)):  \n",
    "            a+=\"#\"    \n",
    "        else:      \n",
    "            a+=\" \"    \n",
    "    a=a+\"\\n\"    \n",
    "print(a); "
   ]
  },
  {
   "cell_type": "code",
   "execution_count": 2,
   "id": "17822c2e",
   "metadata": {},
   "outputs": [
    {
     "name": "stdout",
     "output_type": "stream",
     "text": [
      " @@@@@ \n",
      " @     \n",
      " @     \n",
      " @@@@  \n",
      " @     \n",
      " @     \n",
      " @@@@@ \n",
      "\n"
     ]
    }
   ],
   "source": [
    "a=\"\";    \n",
    "for row in range(0,7):    \n",
    "    for column in range(0,7):     \n",
    "        if (column == 1 or ((row == 0 or row == 6) and (column > 1 and column < 6)) or (row == 3 and column > 1 and column < 5)):  \n",
    "            a+=\"@\"    \n",
    "        else:      \n",
    "            a+=\" \"    \n",
    "    a=a+\"\\n\"    \n",
    "print(a); "
   ]
  },
  {
   "cell_type": "code",
   "execution_count": null,
   "id": "0c08e102",
   "metadata": {},
   "outputs": [],
   "source": []
  },
  {
   "cell_type": "code",
   "execution_count": null,
   "id": "ce3a3bbc",
   "metadata": {},
   "outputs": [],
   "source": []
  },
  {
   "cell_type": "code",
   "execution_count": null,
   "id": "fe42ff02",
   "metadata": {},
   "outputs": [],
   "source": []
  }
 ],
 "metadata": {
  "kernelspec": {
   "display_name": "Python 3",
   "language": "python",
   "name": "python3"
  },
  "language_info": {
   "codemirror_mode": {
    "name": "ipython",
    "version": 3
   },
   "file_extension": ".py",
   "mimetype": "text/x-python",
   "name": "python",
   "nbconvert_exporter": "python",
   "pygments_lexer": "ipython3",
   "version": "3.8.8"
  }
 },
 "nbformat": 4,
 "nbformat_minor": 5
}
