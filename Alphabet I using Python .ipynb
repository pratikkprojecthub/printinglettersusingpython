{
 "cells": [
  {
   "cell_type": "markdown",
   "metadata": {},
   "source": [
    "# Printing the English Alphabet I"
   ]
  },
  {
   "cell_type": "code",
   "execution_count": 1,
   "metadata": {},
   "outputs": [
    {
     "name": "stdout",
     "output_type": "stream",
     "text": [
      "*****\n",
      "  *  \n",
      "  *  \n",
      "  *  \n",
      "  *  \n",
      "  *  \n",
      "*****\n"
     ]
    }
   ],
   "source": [
    "for row in range(7):    \n",
    "    for col in range(5):\n",
    "        if col==2  or ((row==0 or row==6) and col!=2):\n",
    "            print(\"*\",end=\"\")\n",
    "        else:\n",
    "            print(end=\" \")\n",
    "    print()"
   ]
  },
  {
   "cell_type": "code",
   "execution_count": 2,
   "metadata": {},
   "outputs": [
    {
     "name": "stdout",
     "output_type": "stream",
     "text": [
      "$$$$$\n",
      "  @  \n",
      "  @  \n",
      "  @  \n",
      "$$$$$\n"
     ]
    }
   ],
   "source": [
    "\n",
    "h = 5\n",
    "for i in range(0,h) :\n",
    "        for j in range(0,h) :\n",
    "            if ( i == 0 or i == h - 1 ):\n",
    "                print(\"$\",end=\"\")\n",
    "            elif ( j == h // 2 ) :\n",
    "                print(\"@\",end=\"\")\n",
    "            else :\n",
    "                print(end=\" \")\n",
    "        print()"
   ]
  },
  {
   "cell_type": "code",
   "execution_count": 3,
   "metadata": {},
   "outputs": [
    {
     "name": "stdout",
     "output_type": "stream",
     "text": [
      "&&&&&&&&\n",
      "    #   \n",
      "    #   \n",
      "    #   \n",
      "    #   \n",
      "    #   \n",
      "    #   \n",
      "&&&&&&&&\n"
     ]
    }
   ],
   "source": [
    "\n",
    "a = 8\n",
    "for i in range(0,a) :\n",
    "        for j in range(0,a) :\n",
    "            if ( i == 0 or i == a - 1 ):\n",
    "                print(\"&\",end=\"\")\n",
    "            elif ( j == a // 2 ) :\n",
    "                print(\"#\",end=\"\")\n",
    "            else :\n",
    "                print(end=\" \")\n",
    "        print()"
   ]
  },
  {
   "cell_type": "code",
   "execution_count": 5,
   "metadata": {},
   "outputs": [
    {
     "name": "stdout",
     "output_type": "stream",
     "text": [
      "@@@@@\n",
      "  @  \n",
      "  @  \n",
      "  @  \n",
      "  @  \n",
      "  @  \n",
      "@@@@@\n"
     ]
    }
   ],
   "source": [
    "for row in range(7):    \n",
    "    for col in range(5):\n",
    "        if col==2  or ((row==0 or row==6) and col!=2):\n",
    "            print(\"@\",end=\"\")\n",
    "        else:\n",
    "            print(end=\" \")\n",
    "    print()"
   ]
  },
  {
   "cell_type": "code",
   "execution_count": null,
   "metadata": {},
   "outputs": [],
   "source": []
  },
  {
   "cell_type": "code",
   "execution_count": null,
   "metadata": {},
   "outputs": [],
   "source": []
  }
 ],
 "metadata": {
  "kernelspec": {
   "display_name": "Python 3",
   "language": "python",
   "name": "python3"
  },
  "language_info": {
   "codemirror_mode": {
    "name": "ipython",
    "version": 3
   },
   "file_extension": ".py",
   "mimetype": "text/x-python",
   "name": "python",
   "nbconvert_exporter": "python",
   "pygments_lexer": "ipython3",
   "version": "3.8.8"
  }
 },
 "nbformat": 4,
 "nbformat_minor": 2
}
