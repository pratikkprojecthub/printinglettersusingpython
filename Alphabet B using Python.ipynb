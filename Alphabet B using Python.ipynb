{
 "cells": [
  {
   "cell_type": "markdown",
   "id": "28cf3346",
   "metadata": {},
   "source": [
    "# Printing the English Alphabet B "
   ]
  },
  {
   "cell_type": "code",
   "execution_count": 24,
   "id": "852ae32f",
   "metadata": {},
   "outputs": [
    {
     "name": "stdout",
     "output_type": "stream",
     "text": [
      "&&&& \n",
      "&   &\n",
      "&   &\n",
      "&&&& \n",
      "&   &\n",
      "&   &\n",
      "&&&& \n"
     ]
    }
   ],
   "source": [
    "for row in range(7):    \n",
    "    for col in range(5):     \n",
    "        if ((col==0) or (col==4 and (row!=0 and row!=3 and row!=6))) or ((row==0 or row==3 or row==6) and (col>0 and col<4)):\n",
    "            print(\"&\",end=\"\")\n",
    "        else:\n",
    "            print(end=\" \")\n",
    "    print() "
   ]
  },
  {
   "cell_type": "code",
   "execution_count": 7,
   "id": "25f0d200",
   "metadata": {},
   "outputs": [
    {
     "name": "stdout",
     "output_type": "stream",
     "text": [
      "****\n",
      "*  *\n",
      "****\n",
      "*  *\n",
      "****\n"
     ]
    }
   ],
   "source": [
    "for row in range(5):    \n",
    "    for col in range(4):     \n",
    "        if (col==0 or col==3) or (row==0 or row==2 or row==4) and (col>0 and col<3):    \n",
    "            print(\"*\",end=\"\")\n",
    "        else:\n",
    "            print(end=\" \")\n",
    "    print()        \n"
   ]
  },
  {
   "cell_type": "code",
   "execution_count": 14,
   "id": "17822c2e",
   "metadata": {},
   "outputs": [
    {
     "name": "stdout",
     "output_type": "stream",
     "text": [
      "Enter the size: \t 8\n",
      "*********\n",
      "*       *\n",
      "*       *\n",
      "*       *\n",
      "*********\n",
      "*       *\n",
      "*       *\n",
      "*********\n"
     ]
    }
   ],
   "source": [
    "def print_pattern(n):\n",
    "    # Outer for loop for number of lines(rows)\n",
    "    for i in range(n):\n",
    "\n",
    "        # Inner for loop for logic execution\n",
    "        for j in range(n + 1):\n",
    "\n",
    "            # prints two column lines\n",
    "            if ((j == 0 or j == n) or\n",
    "\n",
    "                    # print first line of alphabet\n",
    "                    i == 0 and j != 0 and j != n or\n",
    "\n",
    "                    # prints last line\n",
    "                    i == n - 1 or\n",
    "\n",
    "                    # prints middle line\n",
    "                    i == n // 2):\n",
    "                print(\"*\", end=\"\")\n",
    "            else:\n",
    "                print(\" \", end=\"\")\n",
    "\n",
    "        print()\n",
    "\n",
    "\n",
    "# Size of the letter\n",
    "num = int(input(\"Enter the size: \\t \"))\n",
    "\n",
    "if num > 7:\n",
    "    print_pattern(num)\n",
    "else:\n",
    "    print(\"Enter a size minimum of 8\")"
   ]
  },
  {
   "cell_type": "code",
   "execution_count": 22,
   "id": "0c08e102",
   "metadata": {},
   "outputs": [
    {
     "name": "stdout",
     "output_type": "stream",
     "text": [
      "**** \n",
      "*   *\n",
      "*   *\n",
      "**** \n",
      "*   *\n",
      "*   *\n",
      "**** \n"
     ]
    }
   ],
   "source": [
    "for row in range(7):    \n",
    "    for col in range(5):     \n",
    "        if ((col==0) or (col==4 and (row!=0 and row!=3 and row!=6))) or ((row==0 or row==3 or row==6) and (col>0 and col<4)):\n",
    "            print(\"*\",end=\"\")\n",
    "        else:\n",
    "            print(end=\" \")\n",
    "    print() "
   ]
  },
  {
   "cell_type": "code",
   "execution_count": 23,
   "id": "ce3a3bbc",
   "metadata": {},
   "outputs": [
    {
     "name": "stdout",
     "output_type": "stream",
     "text": [
      "@@@@ \n",
      "@   @\n",
      "@   @\n",
      "@@@@ \n",
      "@   @\n",
      "@   @\n",
      "@@@@ \n"
     ]
    }
   ],
   "source": [
    "for row in range(7):    \n",
    "    for col in range(5):     \n",
    "        if ((col==0) or (col==4 and (row!=0 and row!=3 and row!=6))) or ((row==0 or row==3 or row==6) and (col>0 and col<4)):\n",
    "            print(\"@\",end=\"\")\n",
    "        else:\n",
    "            print(end=\" \")\n",
    "    print() "
   ]
  },
  {
   "cell_type": "code",
   "execution_count": null,
   "id": "fe42ff02",
   "metadata": {},
   "outputs": [],
   "source": []
  }
 ],
 "metadata": {
  "kernelspec": {
   "display_name": "Python 3",
   "language": "python",
   "name": "python3"
  },
  "language_info": {
   "codemirror_mode": {
    "name": "ipython",
    "version": 3
   },
   "file_extension": ".py",
   "mimetype": "text/x-python",
   "name": "python",
   "nbconvert_exporter": "python",
   "pygments_lexer": "ipython3",
   "version": "3.8.8"
  }
 },
 "nbformat": 4,
 "nbformat_minor": 5
}
