{
 "cells": [
  {
   "cell_type": "markdown",
   "metadata": {},
   "source": [
    "# Printing the English Alphabet J"
   ]
  },
  {
   "cell_type": "code",
   "execution_count": 5,
   "metadata": {},
   "outputs": [
    {
     "name": "stdout",
     "output_type": "stream",
     "text": [
      "   *** \n",
      "    *  \n",
      "    *  \n",
      "    *  \n",
      "    *  \n",
      "  * *  \n",
      "   *   \n",
      "\n"
     ]
    }
   ],
   "source": [
    "a=\"\";    \n",
    "for Row in range(0,7):    \n",
    "    for Col in range(0,7):     \n",
    "        if ((Col == 4 and Row != 6) or (Row == 0 and Col > 2 and Col < 6) or (Row == 6 and Col == 3) or (Row == 5 and Col == 2)):  \n",
    "            a=a+\"*\"    \n",
    "        else:      \n",
    "            a=a+\" \"    \n",
    "    a=a+\"\\n\"    \n",
    "print(a); \n"
   ]
  },
  {
   "cell_type": "code",
   "execution_count": 7,
   "metadata": {},
   "outputs": [
    {
     "name": "stdout",
     "output_type": "stream",
     "text": [
      "   *** \n",
      "    *  \n",
      "    *  \n",
      "    *  \n",
      "    *  \n",
      "  * *  \n",
      "   *   \n"
     ]
    }
   ],
   "source": [
    "for Row in range(0,7):    \n",
    "    for Col in range(0,7):     \n",
    "        if ((Col == 4 and Row != 6) or (Row == 0 and Col > 2 and Col < 6) or (Row == 6 and Col == 3) or (Row == 5 and Col == 2)):\n",
    "            print(\"*\",end=\"\")\n",
    "        else:\n",
    "            print(end=\" \")\n",
    "    print()    "
   ]
  },
  {
   "cell_type": "code",
   "execution_count": 8,
   "metadata": {},
   "outputs": [
    {
     "name": "stdout",
     "output_type": "stream",
     "text": [
      "   @@@ \n",
      "    @  \n",
      "    @  \n",
      "    @  \n",
      "    @  \n",
      "  @ @  \n",
      "   @   \n"
     ]
    }
   ],
   "source": [
    "for Row in range(0,7):    \n",
    "    for Col in range(0,7):     \n",
    "        if ((Col == 4 and Row != 6) or (Row == 0 and Col > 2 and Col < 6) or (Row == 6 and Col == 3) or (Row == 5 and Col == 2)):\n",
    "            print(\"@\",end=\"\")\n",
    "        else:\n",
    "            print(end=\" \")\n",
    "    print()  "
   ]
  },
  {
   "cell_type": "code",
   "execution_count": 9,
   "metadata": {},
   "outputs": [
    {
     "name": "stdout",
     "output_type": "stream",
     "text": [
      "   $$$ \n",
      "    $  \n",
      "    $  \n",
      "    $  \n",
      "    $  \n",
      "  $ $  \n",
      "   $   \n"
     ]
    }
   ],
   "source": [
    "for Row in range(0,7):    \n",
    "    for Col in range(0,7):     \n",
    "        if ((Col == 4 and Row != 6) or (Row == 0 and Col > 2 and Col < 6) or (Row == 6 and Col == 3) or (Row == 5 and Col == 2)):\n",
    "            print(\"$\",end=\"\")\n",
    "        else:\n",
    "            print(end=\" \")\n",
    "    print()  "
   ]
  },
  {
   "cell_type": "code",
   "execution_count": 10,
   "metadata": {},
   "outputs": [
    {
     "name": "stdout",
     "output_type": "stream",
     "text": [
      "   &&& \n",
      "    &  \n",
      "    &  \n",
      "    &  \n",
      "    &  \n",
      "  & &  \n",
      "   &   \n"
     ]
    }
   ],
   "source": [
    "for Row in range(0,7):    \n",
    "    for Col in range(0,7):     \n",
    "        if ((Col == 4 and Row != 6) or (Row == 0 and Col > 2 and Col < 6) or (Row == 6 and Col == 3) or (Row == 5 and Col == 2)):\n",
    "            print(\"&\",end=\"\")\n",
    "        else:\n",
    "            print(end=\" \")\n",
    "    print()  "
   ]
  },
  {
   "cell_type": "code",
   "execution_count": 12,
   "metadata": {},
   "outputs": [
    {
     "name": "stdout",
     "output_type": "stream",
     "text": [
      "   ### \n",
      "    #  \n",
      "    #  \n",
      "    #  \n",
      "    #  \n",
      "  # #  \n",
      "   #   \n"
     ]
    }
   ],
   "source": [
    "for Row in range(0,7):    \n",
    "    for Col in range(0,7):     \n",
    "        if ((Col == 4 and Row != 6) or (Row == 0 and Col > 2 and Col < 6) or (Row == 6 and Col == 3) or (Row == 5 and Col == 2)):\n",
    "            print(\"#\",end=\"\")\n",
    "        else:\n",
    "            print(end=\" \")\n",
    "    print()  "
   ]
  },
  {
   "cell_type": "code",
   "execution_count": null,
   "metadata": {},
   "outputs": [],
   "source": []
  }
 ],
 "metadata": {
  "kernelspec": {
   "display_name": "Python 3",
   "language": "python",
   "name": "python3"
  },
  "language_info": {
   "codemirror_mode": {
    "name": "ipython",
    "version": 3
   },
   "file_extension": ".py",
   "mimetype": "text/x-python",
   "name": "python",
   "nbconvert_exporter": "python",
   "pygments_lexer": "ipython3",
   "version": "3.8.8"
  }
 },
 "nbformat": 4,
 "nbformat_minor": 2
}
