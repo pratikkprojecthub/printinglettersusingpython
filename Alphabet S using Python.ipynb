{
 "cells": [
  {
   "cell_type": "markdown",
   "id": "f69e50dc",
   "metadata": {},
   "source": [
    "# Printing the English Alphabet S"
   ]
  },
  {
   "cell_type": "code",
   "execution_count": 1,
   "id": "5b9e3f04",
   "metadata": {},
   "outputs": [
    {
     "name": "stdout",
     "output_type": "stream",
     "text": [
      "  **** \n",
      " *     \n",
      " *     \n",
      "  ***  \n",
      "     * \n",
      "     * \n",
      " ****  \n"
     ]
    }
   ],
   "source": [
    "for row in range(0,7):\n",
    "    for column in range(0,7):\n",
    "        if(((row ==0 or row ==3 or row ==6)and column >1 and column <5)or(column ==1 and(row ==1 or row ==2 or row ==6))or(column ==5 and(row ==0 or row ==4 or row ==5))):\n",
    "            print(\"*\",end=\"\")\n",
    "        else:\n",
    "            print(end=\" \")\n",
    "    print()"
   ]
  },
  {
   "cell_type": "code",
   "execution_count": 2,
   "id": "5d8e1a38",
   "metadata": {},
   "outputs": [
    {
     "name": "stdout",
     "output_type": "stream",
     "text": [
      "  @@@@ \n",
      " @     \n",
      " @     \n",
      "  @@@  \n",
      "     @ \n",
      "     @ \n",
      " @@@@  \n",
      "\n"
     ]
    }
   ],
   "source": [
    "a=\"\";    \n",
    "for row in range(0,7):    \n",
    "    for Col in range(0,7):     \n",
    "        if(((row ==0 or row ==3 or row ==6)and Col >1 and Col <5)or(Col ==1 and(row ==1 or row ==2 or row ==6))or(Col ==5 and(row ==0 or row ==4 or row ==5))):  \n",
    "            a=a+\"@\"    \n",
    "        else:      \n",
    "            a=a+\" \"    \n",
    "    a=a+\"\\n\"    \n",
    "print(a);"
   ]
  },
  {
   "cell_type": "code",
   "execution_count": 3,
   "id": "dd816fd9",
   "metadata": {},
   "outputs": [
    {
     "name": "stdout",
     "output_type": "stream",
     "text": [
      "  &&&& \n",
      " &     \n",
      " &     \n",
      "  &&&  \n",
      "     & \n",
      "     & \n",
      " &&&&  \n",
      "\n"
     ]
    }
   ],
   "source": [
    "a=\"\";    \n",
    "for row in range(0,7):    \n",
    "    for column in range(0,7):     \n",
    "        if (((row == 0 or row == 3 or row == 6) and column > 1 and column < 5) or (column == 1 and (row == 1 or row == 2 or row == 6)) or (column == 5 and (row == 0 or row == 4 or row == 5))):  \n",
    "            a=a+\"&\"    \n",
    "        else:      \n",
    "            a=a+\" \"    \n",
    "    a=a+\"\\n\"    \n",
    "print(a);"
   ]
  },
  {
   "cell_type": "code",
   "execution_count": 5,
   "id": "d713f4f9",
   "metadata": {},
   "outputs": [
    {
     "name": "stdout",
     "output_type": "stream",
     "text": [
      "  @@@@ \n",
      " @     \n",
      " @     \n",
      "  @@@  \n",
      "     @ \n",
      "     @ \n",
      " @@@@  \n",
      "\n"
     ]
    }
   ],
   "source": [
    "a=\"\";    \n",
    "for row in range(0,7):    \n",
    "    for Col in range(0,7):     \n",
    "        if(((row ==0 or row ==3 or row ==6)and Col >1 and Col <5)or(Col ==1 and(row ==1 or row ==2 or row ==6))or(Col ==5 and(row ==0 or row ==4 or row ==5))):  \n",
    "            a=a+\"@\"    \n",
    "        else:      \n",
    "            a=a+\" \"    \n",
    "    a=a+\"\\n\"    \n",
    "print(a);"
   ]
  },
  {
   "cell_type": "code",
   "execution_count": 6,
   "id": "c7442e60",
   "metadata": {},
   "outputs": [
    {
     "name": "stdout",
     "output_type": "stream",
     "text": [
      "#################\n",
      "#################\n",
      "#################\n",
      "$$$$\n",
      "$$$$\n",
      "$$$$\n",
      "#################\n",
      "#################\n",
      "#################\n",
      "             ####\n",
      "             ####\n",
      "             ####\n",
      "#################\n",
      "#################\n",
      "#################\n",
      "\n"
     ]
    }
   ],
   "source": [
    "r=15    \n",
    "c=18   \n",
    "result_str=\"\"    \n",
    "for i in range(1,r+1):    \n",
    "    if((i<=3)or(i>=7 and i<=9)or(i>=13 and i<=15)):    \n",
    "        for j in range(1,c):    \n",
    "            result_str=result_str+\"#\"    \n",
    "        result_str=result_str+\"\\n\"    \n",
    "    elif(i>=4 and i<=6):    \n",
    "        for j in range(1,5):    \n",
    "            result_str=result_str+\"$\"    \n",
    "        result_str=result_str+\"\\n\"    \n",
    "    else:    \n",
    "        for j in range(1,14):    \n",
    "            result_str=result_str+\" \"    \n",
    "        for j in range(1,5):    \n",
    "            result_str=result_str+\"#\"    \n",
    "        result_str=result_str+\"\\n\"    \n",
    "print(result_str);"
   ]
  },
  {
   "cell_type": "code",
   "execution_count": null,
   "id": "66d22a7b",
   "metadata": {},
   "outputs": [],
   "source": []
  }
 ],
 "metadata": {
  "kernelspec": {
   "display_name": "Python 3",
   "language": "python",
   "name": "python3"
  },
  "language_info": {
   "codemirror_mode": {
    "name": "ipython",
    "version": 3
   },
   "file_extension": ".py",
   "mimetype": "text/x-python",
   "name": "python",
   "nbconvert_exporter": "python",
   "pygments_lexer": "ipython3",
   "version": "3.8.8"
  }
 },
 "nbformat": 4,
 "nbformat_minor": 5
}
